{
 "cells": [
  {
   "cell_type": "markdown",
   "metadata": {},
   "source": [
    "### Test the trained VPTR"
   ]
  },
  {
   "cell_type": "code",
   "execution_count": 2,
   "metadata": {},
   "outputs": [],
   "source": [
    "import torch\n",
    "import torch.nn as nn\n",
    "import torch.optim as optim\n",
    "import torchvision.transforms as transforms\n",
    "from torch.utils.data import Dataset, DataLoader, random_split\n",
    "from torch.utils.tensorboard import SummaryWriter\n",
    "import torch.nn.functional as F\n",
    "\n",
    "from pathlib import Path\n",
    "import random\n",
    "from datetime import datetime\n",
    "import time\n",
    "\n",
    "from model import VPTREnc, VPTRDec, VPTRDisc, init_weights, VPTRFormerFAR, VPTRFormerNAR\n",
    "from model import GDL, MSELoss, L1Loss, GANLoss\n",
    "from utils import KTHDataset, BAIRDataset, MovingMNISTDataset\n",
    "from utils import VidCenterCrop, VidPad, VidResize, VidNormalize, VidReNormalize, VidCrop, VidRandomHorizontalFlip, VidRandomVerticalFlip, VidToTensor\n",
    "from utils import visualize_batch_clips, save_ckpt, load_ckpt, set_seed, AverageMeters, init_loss_dict, write_summary, resume_training, write_code_files\n",
    "from utils import set_seed, PSNR, SSIM, MSEScore, get_dataloader\n",
    "import lpips\n",
    "import numpy as np\n",
    "\n",
    "\n",
    "from matplotlib import pyplot as plt\n",
    "\n",
    "set_seed(2021)"
   ]
  },
  {
   "cell_type": "code",
   "execution_count": 3,
   "metadata": {},
   "outputs": [],
   "source": [
    "resume_ckpt = Path('/home/MovingMNIST_NAR.tar') #The trained Transformer checkpoint file\n",
    "resume_AE_ckpt = Path('/home/MovingMNIST_AE.tar') #The trained AutoEncoder checkpoint file\n",
    "num_past_frames = 10\n",
    "num_future_frames = 10\n",
    "encH, encW, encC = 8, 8, 528\n",
    "TSLMA_flag = False\n",
    "rpe = True\n",
    "model_flag = 'NAR' #'NAR' for NAR model, 'FAR' for FAR model\n",
    "\n",
    "img_channels = 1 # 1 for KTH and MovingMNIST, 3 for BAIR\n",
    "N = 16\n",
    "device = torch.device('cuda:0')\n",
    "loss_name_list = ['T_MSE', 'T_GDL', 'T_gan', 'T_total', 'Dtotal', 'Dfake', 'Dreal']"
   ]
  },
  {
   "cell_type": "code",
   "execution_count": null,
   "metadata": {},
   "outputs": [],
   "source": [
    "#Set the padding_type to be \"zero\" for BAIR dataset\n",
    "VPTR_Enc = VPTREnc(img_channels, feat_dim = encC, n_downsampling = 3, padding_type = 'reflect').to(device) \n",
    "\n",
    "#Set the padding_type to be \"zero\" for BAIR dataset, set the out_layer to be 'Sigmoid' for MovingMNIST\n",
    "VPTR_Dec = VPTRDec(img_channels, feat_dim = encC, n_downsampling = 3, out_layer = 'Sigmoid', padding_type = 'reflect').to(device) \n",
    "VPTR_Enc = VPTR_Enc.eval()\n",
    "VPTR_Dec = VPTR_Dec.eval()\n",
    "\n",
    "if model_flag == 'NAR':\n",
    "    VPTR_Transformer = VPTRFormerNAR(num_past_frames, num_future_frames, encH=encH, encW = encW, d_model=encC, \n",
    "                                         nhead=8, num_encoder_layers=4, num_decoder_layers=8, dropout=0.1, \n",
    "                                         window_size=4, Spatial_FFN_hidden_ratio=4, TSLMA_flag = TSLMA_flag, rpe=rpe).to(device)\n",
    "else:\n",
    "    VPTR_Transformer = VPTRFormerFAR(num_past_frames, num_future_frames, encH=encH, encW = encW, d_model=encC, \n",
    "                                    nhead=8, num_encoder_layers=12, dropout=0.1, \n",
    "                                    window_size=4, Spatial_FFN_hidden_ratio=4, rpe=rpe).to(device)\n",
    "\n",
    "VPTR_Transformer = VPTR_Transformer.eval()\n",
    "\n",
    "#load the trained autoencoder, we initialize the discriminator from scratch, for a balanced training\n",
    "loss_dict, start_epoch = resume_training({'VPTR_Enc': VPTR_Enc, 'VPTR_Dec': VPTR_Dec}, {}, resume_AE_ckpt, loss_name_list)\n",
    "if resume_ckpt is not None:\n",
    "    loss_dict, start_epoch = resume_training({'VPTR_Transformer': VPTR_Transformer}, \n",
    "                                             {}, resume_ckpt, loss_name_list)"
   ]
  },
  {
   "cell_type": "code",
   "execution_count": 5,
   "metadata": {},
   "outputs": [],
   "source": [
    "_, _, test_loader, renorm_transform = get_dataloader('MNIST', N, '/home/MovingMNIST', test_past_frames = 10, test_future_frames = 10, ngpus = 1, num_workers = 1)"
   ]
  },
  {
   "cell_type": "code",
   "execution_count": 6,
   "metadata": {},
   "outputs": [],
   "source": [
    "def plot_model_result(pred, fig_name, num_frames, n = 2):\n",
    "    \"\"\"\n",
    "    Plot and save figure\n",
    "    \"\"\"\n",
    "    fig, ax = plt.subplots(1, num_frames, figsize = (num_frames, 1))\n",
    "    fig.subplots_adjust(wspace=0., hspace = 0.)\n",
    "\n",
    "    for j in range(num_frames):\n",
    "        ax[j].set_axis_off()\n",
    "        \n",
    "        img = pred[:, j, :, :, :].clone()\n",
    "        img = renorm_transform(img)\n",
    "        img = torch.clamp(img, min = 0., max = 1.)\n",
    "        img = img[n, ...]\n",
    "\n",
    "        img = transforms.ToPILImage()(img)\n",
    "        ax[j].imshow(img, cmap = 'gray')\n",
    "    fig.savefig(f'{fig_name}.pdf', bbox_inches = 'tight')\n",
    "    \n",
    "def FAR_RIL_test_single_iter(sample, VPTR_Enc, VPTR_Dec, VPTR_Transformer, num_pred, device):\n",
    "    \"\"\"\n",
    "    recurrently inference over Latent space, get a worse result\n",
    "    \"\"\"\n",
    "    past_frames, future_frames = sample\n",
    "    past_frames = past_frames.to(device)\n",
    "    future_frames = future_frames.to(device)\n",
    "    assert num_pred == future_frames.shape[1], \"Mismatch between ground truth future frames length and num_pred\"\n",
    "\n",
    "    past_gt_feats = VPTR_Enc(past_frames)\n",
    "    pred_feats = VPTR_Transformer(past_gt_feats)\n",
    "    \n",
    "    pred_frames = VPTR_Dec(pred_feats[:, -1:, ...])\n",
    "    for i in range(1, num_pred):\n",
    "        if i == 1:\n",
    "            input_feats = torch.cat([past_gt_feats, pred_feats[:, -1:, ...]], dim = 1)\n",
    "        elif i < VPTR_Transformer.num_future_frames:\n",
    "            input_feats = torch.cat([input_feats, pred_future_feat], dim = 1)\n",
    "        else:\n",
    "            input_feats = torch.cat([input_feats, pred_future_feat], dim = 1)\n",
    "            input_feats = input_feats[:, 1:, ...]\n",
    "        \n",
    "        pred_feats = VPTR_Transformer(input_feats)\n",
    "        pred_future_frame = VPTR_Dec(pred_feats[:, -1:, ...])\n",
    "        pred_future_feat = pred_feats[:, -1:, ...]\n",
    "        pred_frames = torch.cat([pred_frames, pred_future_frame], dim = 1)\n",
    "    \n",
    "    return pred_frames, future_frames\n",
    "\n",
    "def FAR_RIP_test_single_iter(sample, VPTR_Enc, VPTR_Dec, VPTR_Transformer, num_pred, device):\n",
    "    \"\"\"\n",
    "    recurrently inference over pixel space\n",
    "    \"\"\"\n",
    "    past_frames, future_frames = sample\n",
    "    past_frames = past_frames.to(device)\n",
    "    future_frames = future_frames.to(device)\n",
    "    assert num_pred == future_frames.shape[1], \"Mismatch between ground truth future frames length and num_pred\"\n",
    "\n",
    "    past_gt_feats = VPTR_Enc(past_frames)\n",
    "    pred_feats = VPTR_Transformer(past_gt_feats)\n",
    "    \n",
    "    pred_frames = VPTR_Dec(pred_feats[:, -1:, ...])\n",
    "    for i in range(1, num_pred):\n",
    "        if i == 1:\n",
    "            input_feats = torch.cat([past_gt_feats, pred_feats[:, -1:, ...]], dim = 1)\n",
    "        elif i < VPTR_Transformer.num_future_frames:\n",
    "            input_feats = torch.cat([input_feats, pred_future_feat], dim = 1)\n",
    "        else:\n",
    "            input_feats = torch.cat([input_feats, pred_future_feat], dim = 1)\n",
    "            input_feats = input_feats[:, 1:, ...]\n",
    "        \n",
    "        pred_feats = VPTR_Transformer(input_feats)\n",
    "        pred_future_frame = VPTR_Dec(pred_feats[:, -1:, ...])\n",
    "        pred_future_feat = VPTR_Enc(pred_future_frame)\n",
    "        pred_frames = torch.cat([pred_frames, pred_future_frame], dim = 1)\n",
    "    \n",
    "    return pred_frames, future_frames\n",
    "\n",
    "def NAR_test_single_iter(sample, VPTR_Enc, VPTR_Dec, VPTR_Transformer, num_pred, device):\n",
    "    \"\"\"\n",
    "    NAR model inference function, for the case num_pred is divisible for the num_future_frames of training. e.g. num_pred = 20, num_future_frames = 10\n",
    "    \"\"\"\n",
    "    past_frames, future_frames = sample\n",
    "    past_frames = past_frames.to(device)\n",
    "    future_frames = future_frames.to(device)\n",
    "    assert num_pred == future_frames.shape[1], \"Mismatch between ground truth future frames length and num_pred\"\n",
    "    assert num_pred % VPTR_Transformer.num_future_frames == 0, \"Mismatch of num_pred and trained Transformer\"\n",
    "    \n",
    "    past_gt_feats = VPTR_Enc(past_frames)\n",
    "    \n",
    "    for i in range(0, num_pred//VPTR_Transformer.num_future_frames):\n",
    "        pred_future_feats = VPTR_Transformer(past_gt_feats)\n",
    "        if i == 0:\n",
    "            pred_frames = VPTR_Dec(pred_future_feats)\n",
    "        else:\n",
    "            pred_frames = torch.cat([pred_frames, VPTR_Dec(pred_future_feats)], dim = 1)\n",
    "        past_gt_feats = pred_future_feats\n",
    "        \n",
    "    \n",
    "    return pred_frames, future_frames\n",
    "\n",
    "\n",
    "def NAR_BAIR_2_to_28_test_single_iter(sample, VPTR_Enc, VPTR_Dec, VPTR_Transformer, num_pred, device):\n",
    "    \"\"\"\n",
    "    Specifically for BAIR dataset, 2 -> 28 prediction.\n",
    "    \"\"\"\n",
    "    past_frames, future_frames = sample\n",
    "    past_frames = past_frames.to(device)\n",
    "    future_frames = future_frames.to(device)\n",
    "    assert num_pred == future_frames.shape[1], \"Mismatch between ground truth future frames length and num_pred\"\n",
    "    #assert num_pred % VPTR_Transformer.num_future_frames == 0, \"Mismatch of num_pred and trained Transformer\"\n",
    "    \n",
    "    pred = []\n",
    "    #prediction 1\n",
    "    past_gt_feats = VPTR_Enc(past_frames)\n",
    "    pred_future_feats = VPTR_Transformer(past_gt_feats)\n",
    "    pred_frames = VPTR_Dec(pred_future_feats)\n",
    "    pred.append(pred_frames)\n",
    "    #prediction 2\n",
    "    past_frames = pred_frames[:, -2:, ...]\n",
    "    past_gt_feats = VPTR_Enc(past_frames)\n",
    "    pred_future_feats = VPTR_Transformer(past_gt_feats)\n",
    "    pred_frames = VPTR_Dec(pred_future_feats)\n",
    "    pred.append(pred_frames)\n",
    "    \n",
    "    #prediction 3\n",
    "    past_frames = pred_frames[:, -2:, ...]\n",
    "    past_gt_feats = VPTR_Enc(past_frames)\n",
    "    pred_future_feats = VPTR_Transformer(past_gt_feats)\n",
    "    pred_frames = VPTR_Dec(pred_future_feats)\n",
    "    pred.append(pred_frames[:, 0:-2, ...])\n",
    "    pred_frames = torch.cat(pred, dim = 1)\n",
    "    \n",
    "    return pred_frames, future_frames         "
   ]
  },
  {
   "cell_type": "code",
   "execution_count": 14,
   "metadata": {},
   "outputs": [],
   "source": []
  },
  {
   "cell_type": "code",
   "execution_count": 6,
   "metadata": {},
   "outputs": [],
   "source": [
    "\n",
    "sample = next(iter(test_loader))\n",
    "num_pred = 10\n",
    "with torch.no_grad():\n",
    "    pred_frames, gt_frames = FAR_RIP_test_single_iter(sample, VPTR_Enc, VPTR_Dec, VPTR_Transformer, num_pred, device)\n"
   ]
  },
  {
   "cell_type": "code",
   "execution_count": 7,
   "metadata": {},
   "outputs": [],
   "source": [
    "sample = next(iter(test_loader))\n",
    "num_pred = 10\n",
    "with torch.no_grad():\n",
    "    pred_frames, gt_frames = NAR_test_single_iter(sample, VPTR_Enc, VPTR_Dec, VPTR_Transformer, num_pred, device)\n"
   ]
  },
  {
   "cell_type": "code",
   "execution_count": 8,
   "metadata": {},
   "outputs": [
    {
     "data": {
      "image/png": "[encoded data removed]",
      "text/plain": [
       "<Figure size 720x72 with 10 Axes>"
      ]
     },
     "metadata": {
      "needs_background": "light"
     },
     "output_type": "display_data"
    }
   ],
   "source": [
    "plot_model_result(pred_frames, 'pred_nar_mnist', 10, n = 5)"
   ]
  },
  {
   "cell_type": "code",
   "execution_count": 9,
   "metadata": {},
   "outputs": [
    {
     "data": {
      "image/png": "[encoded data removed]",
      "text/plain": [
       "<Figure size 720x72 with 10 Axes>"
      ]
     },
     "metadata": {
      "needs_background": "light"
     },
     "output_type": "display_data"
    }
   ],
   "source": [
    "plot_model_result(gt_frames, 'gt_mnist', 10, n = 5)"
   ]
  },
  {
   "cell_type": "code",
   "execution_count": null,
   "metadata": {},
   "outputs": [],
   "source": [
    "import numpy as np\n",
    "from utils import PSNR, SSIM\n",
    "import lpips\n",
    "\n",
    "def pred_ave_metrics(model, data_loader, metric_func, renorm_transform, num_future_frames, num_past_frames, device = 'cuda:0', use_lpips = False, gray_scale = True):\n",
    "    model = model.to(device)\n",
    "    model = model.eval()\n",
    "    ave_metric = np.zeros(num_future_frames)\n",
    "    sample_num = 0\n",
    "\n",
    "    with torch.no_grad():\n",
    "        for idx, sample in enumerate(data_loader, 0):\n",
    "            past_frames, future_frames = sample\n",
    "            past_frames = past_frames.to(device)\n",
    "            future_frames = future_frames.to(device)\n",
    "            pred = model(past_frames)\n",
    "            for i in range(0, num_future_frames):\n",
    "                pred_t = pred[:, i, ...]\n",
    "                future_frames_t = future_frames[:, i, ...]\n",
    "                \n",
    "                if not use_lpips:\n",
    "                    pred_t = renorm_transform(pred_t)\n",
    "                    future_frames_t = renorm_transform(future_frames_t)\n",
    "                elif use_lpips and gray_scale:\n",
    "                    pred_t = pred_t.repeat(1, 3, 1, 1)\n",
    "                    future_frames_t = future_frames_t.repeat(1, 3, 1, 1)\n",
    "                    \n",
    "                m = metric_func(pred_t, future_frames_t)*pred_t.shape[0]\n",
    "                try:\n",
    "                    ave_metric[i] += m.mean()\n",
    "                except AttributeError:\n",
    "                    ave_metric[i] += m\n",
    "                \n",
    "            sample_num += pred.shape[0]\n",
    "\n",
    "    ave_metric = ave_metric / sample_num\n",
    "    return ave_metric"
   ]
  }
 ],
 "metadata": {
  "kernelspec": {
   "display_name": "Python 3",
   "language": "python",
   "name": "python3"
  },
  "language_info": {
   "codemirror_mode": {
    "name": "ipython",
    "version": 3
   },
   "file_extension": ".py",
   "mimetype": "text/x-python",
   "name": "python",
   "nbconvert_exporter": "python",
   "pygments_lexer": "ipython3",
   "version": "3.7.6"
  }
 },
 "nbformat": 4,
 "nbformat_minor": 5
}
